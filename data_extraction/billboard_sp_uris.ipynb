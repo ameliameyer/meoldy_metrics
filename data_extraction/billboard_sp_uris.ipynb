{
 "cells": [
  {
   "cell_type": "markdown",
   "metadata": {},
   "source": [
    "# Collecting Billboard Hot 100s and Spotify URIs\n",
    "\n",
    "1. Billboard Hot 100\n",
    "The Python package billboard.py doesn't allow extraction of year-end Hot 100 lists and Billboard now requires a pro subscription for their Hot 100 Year End lists. To bypass this, I used Beautiful Soup to scrape each Billboard Hot 100 between 2000 and 2024 from Wikipedia then manually filled in the few missing values due to the unique HTML structure of the charts. \n",
    "\n",
    "2. Spotipy\n",
    "The second portion of this notebook is used to get the Spotify URIs for each track in the dataframe (A Spotify URI is the unique page for each song on Spotify). This was achieved using [spotipy](https://spotipy.readthedocs.io/en/2.25.1/) - a Python library for the Spotify API. We'll work with this more in following notebooks. "
   ]
  },
  {
   "cell_type": "markdown",
   "metadata": {},
   "source": [
    "## Imports"
   ]
  },
  {
   "cell_type": "code",
   "execution_count": 1,
   "metadata": {
    "tags": []
   },
   "outputs": [
    {
     "data": {
      "text/plain": [
       "'\\n!pip install billboard.py\\n!pip install spotipy\\n!pip install lyricsgenius\\n'"
      ]
     },
     "execution_count": 1,
     "metadata": {},
     "output_type": "execute_result"
    }
   ],
   "source": [
    "'''\n",
    "!pip install billboard.py\n",
    "!pip install spotipy\n",
    "!pip install lyricsgenius\n",
    "'''"
   ]
  },
  {
   "cell_type": "code",
   "execution_count": 2,
   "metadata": {
    "tags": []
   },
   "outputs": [],
   "source": [
    "import numpy as np\n",
    "import pandas as pd\n",
    "import billboard\n",
    "\n",
    "# for web scraping the billboard rankings\n",
    "import requests\n",
    "from bs4 import BeautifulSoup\n",
    "import time\n",
    "\n",
    "# for spotipy\n",
    "import spotipy\n",
    "from spotipy.oauth2 import SpotifyClientCredentials\n",
    "from tqdm.notebook import tqdm\n",
    "from requests.exceptions import ReadTimeout, ConnectionError\n",
    "import re\n",
    "\n",
    "# for genius collaborators\n",
    "import lyricsgenius"
   ]
  },
  {
   "cell_type": "markdown",
   "metadata": {},
   "source": [
    "## Billboard Hot 100"
   ]
  },
  {
   "cell_type": "code",
   "execution_count": 3,
   "metadata": {
    "tags": []
   },
   "outputs": [
    {
     "name": "stderr",
     "output_type": "stream",
     "text": [
      "C:\\Users\\candy\\AppData\\Local\\Temp\\ipykernel_4332\\375330942.py:34: DeprecationWarning: The 'text' argument to find()-type methods is deprecated. Use 'string' instead.\n",
      "  rank = ' '.join([x.get_text(strip=True) for x in cols[0].find_all(text=True)]).strip()\n",
      "C:\\Users\\candy\\AppData\\Local\\Temp\\ipykernel_4332\\375330942.py:35: DeprecationWarning: The 'text' argument to find()-type methods is deprecated. Use 'string' instead.\n",
      "  title = ' '.join([x.get_text(strip=True) for x in cols[1].find_all(text=True)]).strip()\n",
      "C:\\Users\\candy\\AppData\\Local\\Temp\\ipykernel_4332\\375330942.py:36: DeprecationWarning: The 'text' argument to find()-type methods is deprecated. Use 'string' instead.\n",
      "  artist = ' '.join([x.get_text(strip=True) for x in cols[2].find_all(text=True)]).strip()\n"
     ]
    },
    {
     "name": "stdout",
     "output_type": "stream",
     "text": [
      "Warning: 99 songs scraped for 2000 (expected 100)\n",
      "Loaded 2000 (99 songs)\n",
      "Loaded 2001 (100 songs)\n",
      "Loaded 2002 (100 songs)\n",
      "Loaded 2003 (100 songs)\n",
      "Loaded 2004 (100 songs)\n",
      "Loaded 2005 (100 songs)\n",
      "Loaded 2006 (100 songs)\n",
      "Loaded 2007 (100 songs)\n",
      "Warning: 98 songs scraped for 2008 (expected 100)\n",
      "Loaded 2008 (98 songs)\n",
      "Loaded 2009 (100 songs)\n",
      "Loaded 2010 (100 songs)\n",
      "Loaded 2011 (100 songs)\n",
      "Warning: 99 songs scraped for 2012 (expected 100)\n",
      "Loaded 2012 (99 songs)\n",
      "Warning: 99 songs scraped for 2013 (expected 100)\n",
      "Loaded 2013 (99 songs)\n",
      "Loaded 2014 (100 songs)\n",
      "Warning: 99 songs scraped for 2015 (expected 100)\n",
      "Loaded 2015 (99 songs)\n",
      "Warning: 98 songs scraped for 2016 (expected 100)\n",
      "Loaded 2016 (98 songs)\n",
      "Loaded 2017 (100 songs)\n",
      "Loaded 2018 (100 songs)\n",
      "Loaded 2019 (100 songs)\n",
      "Loaded 2020 (100 songs)\n",
      "Loaded 2021 (100 songs)\n",
      "Loaded 2022 (100 songs)\n",
      "Loaded 2023 (100 songs)\n",
      "Warning: 99 songs scraped for 2024 (expected 100)\n",
      "Loaded 2024 (99 songs)\n"
     ]
    }
   ],
   "source": [
    "# define the range\n",
    "years = range(2000, 2025)\n",
    "# create an empty list for the songs\n",
    "bb_100 = []\n",
    "\n",
    "# set headers to mimic a browser\n",
    "headers = {\n",
    "    'User-Agent': 'Mozilla/5.0 (Windows NT 10.0; Win64; x64) '\n",
    "                  'AppleWebKit/537.36 (KHTML, like Gecko) '\n",
    "                  'Chrome/115.0.0.0 Safari/537.36'\n",
    "}\n",
    "\n",
    "# loop through each year's Wikipedia page\n",
    "for year in years:\n",
    "    # base url\n",
    "    url = f'https://en.wikipedia.org/wiki/Billboard_Year-End_Hot_100_singles_of_{year}'\n",
    "    try:\n",
    "        response = requests.get(url, headers=headers)\n",
    "        if response.status_code != 200:\n",
    "            print(f'Failed {year}: Status {response.status_code}')\n",
    "            continue\n",
    "\n",
    "        soup = BeautifulSoup(response.text, 'html.parser')\n",
    "        table = soup.find('table', {'class': 'wikitable'})\n",
    "        if not table:\n",
    "            print(f'No table found for {year}')\n",
    "            continue\n",
    "\n",
    "        rows = table.find_all('tr')\n",
    "        year_songs = 0\n",
    "\n",
    "        for row in rows[1:]:  # skip header\n",
    "            cols = row.find_all(['td', 'th'])\n",
    "            if len(cols) < 3:\n",
    "                continue\n",
    "\n",
    "            # get text from any nested tags\n",
    "            rank = ' '.join([x.get_text(strip=True) for x in cols[0].find_all(text=True)]).strip()\n",
    "            title = ' '.join([x.get_text(strip=True) for x in cols[1].find_all(text=True)]).strip()\n",
    "            artist = ' '.join([x.get_text(strip=True) for x in cols[2].find_all(text=True)]).strip()\n",
    "\n",
    "            if not rank or not title or not artist:\n",
    "                continue\n",
    "\n",
    "            bb_100.append({\n",
    "                'year': year,\n",
    "                'rank': rank,\n",
    "                'title': title,\n",
    "                'artist': artist\n",
    "            })\n",
    "            year_songs += 1\n",
    "\n",
    "        # if fewer than 100 songs scraped, warn\n",
    "        if year_songs < 100:\n",
    "            print(f'Warning: {year_songs} songs scraped for {year} (expected 100)')\n",
    "\n",
    "        print(f'Loaded {year} ({year_songs} songs)')\n",
    "        time.sleep(1)  # polite delay\n",
    "\n",
    "    except Exception as e:\n",
    "        print(f'Failed {year}: {e}')\n",
    "\n",
    "# convert to DataFrame\n",
    "bb_100 = pd.DataFrame(bb_100)\n",
    "\n",
    "# clean up duplicates and whitespace\n",
    "bb_100['title'] = bb_100['title'].str.strip()\n",
    "bb_100['artist'] = bb_100['artist'].str.strip()"
   ]
  },
  {
   "cell_type": "markdown",
   "metadata": {},
   "source": [
    "### Find Missing\n",
    "\n",
    "There were a total of 9 missing tracks. I manually located these on the respective Wikipedia pages and added them to the dataframe. "
   ]
  },
  {
   "cell_type": "code",
   "execution_count": 4,
   "metadata": {
    "tags": []
   },
   "outputs": [
    {
     "name": "stdout",
     "output_type": "stream",
     "text": [
      "Year 2000 is missing ranks: [23]\n",
      "Year 2008 is missing ranks: [10, 17]\n",
      "Year 2012 is missing ranks: [17]\n",
      "Year 2013 is missing ranks: [18]\n",
      "Year 2015 is missing ranks: [10]\n",
      "Year 2016 is missing ranks: [2, 21]\n",
      "Year 2024 is missing ranks: [20]\n"
     ]
    }
   ],
   "source": [
    "# set the rank column to numeric\n",
    "bb_100['rank'] = pd.to_numeric(bb_100['rank'], errors='coerce')\n",
    "\n",
    "# loop through each year\n",
    "for year in bb_100['year'].unique():\n",
    "    ranks = bb_100[bb_100['year'] == year]['rank'].dropna().astype(int)\n",
    "    missing = set(range(1, 101)) - set(ranks)\n",
    "    if missing:\n",
    "        print(f'Year {year} is missing ranks: {sorted(missing)}')"
   ]
  },
  {
   "cell_type": "code",
   "execution_count": 5,
   "metadata": {
    "tags": []
   },
   "outputs": [],
   "source": [
    "# create a dictionary of the missing years and associated song information\n",
    "bb_missing = {'year': [2000,2008,2008,2012,2013,2015,2016,2016,2024]\n",
    "            , 'rank': [23,10,17,17,18,10,2,21,20]\n",
    "            , 'title': ['I Need to Know','Forever','Don\\'t Stop the Music','Whistle','Wrecking Ball','The Hills'\n",
    "                        ,'Sory','Heathens','Snooze']\n",
    "            , 'artist': ['Marc Anthony','Chris Brown','Rihanna','Flo Rida','Miley Cyrus','The Weekend'\n",
    "                         ,'Justin Bieber','Twenty One Pilots','SZA'] }\n",
    "\n",
    "# make into dataframe\n",
    "bb_missing = pd.DataFrame(bb_missing)"
   ]
  },
  {
   "cell_type": "code",
   "execution_count": 6,
   "metadata": {
    "tags": []
   },
   "outputs": [
    {
     "name": "stdout",
     "output_type": "stream",
     "text": [
      "(2500, 4)\n"
     ]
    }
   ],
   "source": [
    "# combine the two dataframes\n",
    "bb_all = pd.concat([bb_100, bb_missing], ignore_index=True)\n",
    "\n",
    "print(bb_all.shape)   # new row count"
   ]
  },
  {
   "cell_type": "markdown",
   "metadata": {},
   "source": [
    "### Extract the Main Artists\n",
    "\n",
    "In order to find the songs on Spotify, I extracted the main artists and created a new column for the features. "
   ]
  },
  {
   "cell_type": "code",
   "execution_count": 7,
   "metadata": {
    "tags": []
   },
   "outputs": [
    {
     "data": {
      "text/html": [
       "<div>\n",
       "<style scoped>\n",
       "    .dataframe tbody tr th:only-of-type {\n",
       "        vertical-align: middle;\n",
       "    }\n",
       "\n",
       "    .dataframe tbody tr th {\n",
       "        vertical-align: top;\n",
       "    }\n",
       "\n",
       "    .dataframe thead th {\n",
       "        text-align: right;\n",
       "    }\n",
       "</style>\n",
       "<table border=\"1\" class=\"dataframe\">\n",
       "  <thead>\n",
       "    <tr style=\"text-align: right;\">\n",
       "      <th></th>\n",
       "      <th>title</th>\n",
       "      <th>artist</th>\n",
       "      <th>main_artist</th>\n",
       "      <th>featured_artists</th>\n",
       "    </tr>\n",
       "  </thead>\n",
       "  <tbody>\n",
       "    <tr>\n",
       "      <th>0</th>\n",
       "      <td>Breathe</td>\n",
       "      <td>Faith Hill</td>\n",
       "      <td>Faith Hill</td>\n",
       "      <td>None</td>\n",
       "    </tr>\n",
       "    <tr>\n",
       "      <th>1</th>\n",
       "      <td>Smooth</td>\n",
       "      <td>Santana featuring Rob Thomas</td>\n",
       "      <td>Santana</td>\n",
       "      <td>featuring Rob Thomas</td>\n",
       "    </tr>\n",
       "    <tr>\n",
       "      <th>2</th>\n",
       "      <td>Maria Maria</td>\n",
       "      <td>Santana featuring The Product G&amp;B</td>\n",
       "      <td>Santana</td>\n",
       "      <td>featuring The Product G&amp;B</td>\n",
       "    </tr>\n",
       "    <tr>\n",
       "      <th>3</th>\n",
       "      <td>I Wanna Know</td>\n",
       "      <td>Joe</td>\n",
       "      <td>Joe</td>\n",
       "      <td>None</td>\n",
       "    </tr>\n",
       "    <tr>\n",
       "      <th>4</th>\n",
       "      <td>Everything You Want</td>\n",
       "      <td>Vertical Horizon</td>\n",
       "      <td>Vertical Horizon</td>\n",
       "      <td>None</td>\n",
       "    </tr>\n",
       "    <tr>\n",
       "      <th>5</th>\n",
       "      <td>Say My Name</td>\n",
       "      <td>Destiny's Child</td>\n",
       "      <td>Destiny's Child</td>\n",
       "      <td>None</td>\n",
       "    </tr>\n",
       "    <tr>\n",
       "      <th>6</th>\n",
       "      <td>I Knew I Loved You</td>\n",
       "      <td>Savage Garden</td>\n",
       "      <td>Savage Garden</td>\n",
       "      <td>None</td>\n",
       "    </tr>\n",
       "    <tr>\n",
       "      <th>7</th>\n",
       "      <td>Amazed</td>\n",
       "      <td>Lonestar</td>\n",
       "      <td>Lonestar</td>\n",
       "      <td>None</td>\n",
       "    </tr>\n",
       "    <tr>\n",
       "      <th>8</th>\n",
       "      <td>Bent</td>\n",
       "      <td>Matchbox Twenty</td>\n",
       "      <td>Matchbox Twenty</td>\n",
       "      <td>None</td>\n",
       "    </tr>\n",
       "    <tr>\n",
       "      <th>9</th>\n",
       "      <td>He Wasnt Man Enough</td>\n",
       "      <td>Toni Braxton</td>\n",
       "      <td>Toni Braxton</td>\n",
       "      <td>None</td>\n",
       "    </tr>\n",
       "  </tbody>\n",
       "</table>\n",
       "</div>"
      ],
      "text/plain": [
       "                 title                             artist       main_artist   \n",
       "0              Breathe                         Faith Hill        Faith Hill  \\\n",
       "1               Smooth       Santana featuring Rob Thomas           Santana   \n",
       "2          Maria Maria  Santana featuring The Product G&B           Santana   \n",
       "3         I Wanna Know                                Joe               Joe   \n",
       "4  Everything You Want                   Vertical Horizon  Vertical Horizon   \n",
       "5          Say My Name                    Destiny's Child   Destiny's Child   \n",
       "6   I Knew I Loved You                      Savage Garden     Savage Garden   \n",
       "7               Amazed                           Lonestar          Lonestar   \n",
       "8                 Bent                    Matchbox Twenty   Matchbox Twenty   \n",
       "9  He Wasnt Man Enough                       Toni Braxton      Toni Braxton   \n",
       "\n",
       "            featured_artists  \n",
       "0                       None  \n",
       "1       featuring Rob Thomas  \n",
       "2  featuring The Product G&B  \n",
       "3                       None  \n",
       "4                       None  \n",
       "5                       None  \n",
       "6                       None  \n",
       "7                       None  \n",
       "8                       None  \n",
       "9                       None  "
      ]
     },
     "execution_count": 7,
     "metadata": {},
     "output_type": "execute_result"
    }
   ],
   "source": [
    "# copy original DataFrame\n",
    "bb_clean = bb_all.copy()\n",
    "\n",
    "# get main artist\n",
    "def extract_main_artist(artist_name):\n",
    "    \"\"\"extract main artist, splitting at 'with', 'feat.', 'featuring', '&', 'and'\"\"\"\n",
    "    split_pattern = r'\\s+(with|feat\\.|featuring|&|and)\\s+'\n",
    "    main_artist = re.split(split_pattern, artist_name, flags=re.I)[0]\n",
    "    return main_artist.strip(' \"\\'')\n",
    "\n",
    "# get features artist\n",
    "def extract_featured_artists(artist_name):\n",
    "    \"\"\"Extract featured artists after the main artist\"\"\"\n",
    "    split_pattern = r'\\s+(with|feat\\.|featuring|&|and)\\s+'\n",
    "    parts = re.split(split_pattern, artist_name, flags=re.I)\n",
    "    if len(parts) > 1:\n",
    "        return ' '.join(parts[1:]).strip(' \"\\'')\n",
    "    return None\n",
    "\n",
    "# remove special charaters/spaces/etc. \n",
    "def clean_title(title):\n",
    "    \"\"\"Remove special characters and extra spaces/quotes for better search\"\"\"\n",
    "    return re.sub(r'[^\\w\\s]', '', title).strip(' \"\\'')\n",
    "\n",
    "# create new columns\n",
    "bb_clean['main_artist'] = bb_clean['artist'].apply(extract_main_artist)\n",
    "bb_clean['featured_artists'] = bb_clean['artist'].apply(extract_featured_artists)\n",
    "bb_clean['title'] = bb_clean['title'].apply(clean_title)\n",
    "bb_clean['artist'] = bb_clean['artist'].str.strip(' \"\\'')\n",
    "\n",
    "# print the first 10\n",
    "bb_clean[['title', 'artist', 'main_artist', 'featured_artists']].head(10)\n"
   ]
  },
  {
   "cell_type": "markdown",
   "metadata": {},
   "source": [
    "## Spotipy URIs"
   ]
  },
  {
   "cell_type": "code",
   "execution_count": 8,
   "metadata": {
    "tags": []
   },
   "outputs": [],
   "source": [
    "# define credentials\n",
    "client_id = # this has been hidden for security\n",
    "client_secret = # this has been hidden for security\n",
    "\n",
    "# assign the spotify credentials\n",
    "auth_manager = SpotifyClientCredentials(client_id=client_id, client_secret=client_secret, requests_timeout=30)\n",
    "sp = spotipy.Spotify(auth_manager=auth_manager)"
   ]
  },
  {
   "cell_type": "code",
   "execution_count": 9,
   "metadata": {
    "tags": []
   },
   "outputs": [
    {
     "data": {
      "application/vnd.jupyter.widget-view+json": {
       "model_id": "1708477adc7c4cb1960446c8f96dd3dd",
       "version_major": 2,
       "version_minor": 0
      },
      "text/plain": [
       "Fetching Spotify URIs:   0%|          | 0/2500 [00:00<?, ?it/s]"
      ]
     },
     "metadata": {},
     "output_type": "display_data"
    },
    {
     "name": "stdout",
     "output_type": "stream",
     "text": [
      "Saved progress at row 100...\n",
      "Saved progress at row 200...\n",
      "Saved progress at row 300...\n",
      "Saved progress at row 400...\n",
      "Saved progress at row 500...\n",
      "Saved progress at row 600...\n",
      "Saved progress at row 700...\n",
      "Saved progress at row 800...\n",
      "Saved progress at row 900...\n",
      "Saved progress at row 1000...\n",
      "Saved progress at row 1100...\n",
      "Saved progress at row 1200...\n",
      "Saved progress at row 1300...\n",
      "Saved progress at row 1400...\n",
      "Saved progress at row 1500...\n",
      "Saved progress at row 1600...\n",
      "Saved progress at row 1700...\n",
      "Saved progress at row 1800...\n",
      "Saved progress at row 1900...\n",
      "Saved progress at row 2000...\n",
      "Saved progress at row 2100...\n",
      "Saved progress at row 2200...\n",
      "Saved progress at row 2300...\n",
      "Saved progress at row 2400...\n",
      "Done! Found URIs for 2487 out of 2500 tracks.\n"
     ]
    }
   ],
   "source": [
    "# remove special characters from the title\n",
    "def clean_title(title):\n",
    "    '''Remove special characters to improve search'''\n",
    "    return re.sub(r'[^\\w\\s]', '', title)\n",
    "\n",
    "# get the spotify track uris\n",
    "def get_track_uri_retry(title, artist, max_retries=3):\n",
    "    '''Try to get Spotify URI with retries on timeout/connection errors'''\n",
    "    for attempt in range(max_retries):\n",
    "        try:\n",
    "            query = f'track:{title} artist:{artist}'\n",
    "            results = sp.search(q=query, type='track', limit=1)\n",
    "            if results['tracks']['items']:\n",
    "                return results['tracks']['items'][0]['uri']\n",
    "            return None\n",
    "        except (ReadTimeout, ConnectionError) as e:\n",
    "            wait_time = 2 ** attempt\n",
    "            print(f'Timeout for {title} by {artist}, retrying in {wait_time}s...')\n",
    "            time.sleep(wait_time)\n",
    "    return None\n",
    "\n",
    "# if the uri is not found, look under the featured artists\n",
    "def get_track_uri_flexible(title, main_artist, featured_artists=None, max_retries=3):\n",
    "    '''\n",
    "    Try fetching URI first with main_artist.\n",
    "    If not found and featured_artists exist, try including them.\n",
    "    '''\n",
    "    # first attempt: main artist only\n",
    "    uri = get_track_uri_retry(title, main_artist, max_retries=max_retries)\n",
    "    if uri is None and featured_artists:\n",
    "        # second attempt: include featured artists\n",
    "        combined_artist = f'{main_artist} {featured_artists}'\n",
    "        uri = get_track_uri_retry(title, combined_artist, max_retries=max_retries)\n",
    "    return uri\n",
    "\n",
    "# update dataframe\n",
    "bb_clean['clean_title'] = bb_clean['title'].apply(clean_title)\n",
    "if 'spotify_uri' not in bb_clean.columns:\n",
    "    bb_clean['spotify_uri'] = None\n",
    "\n",
    "# grab the uris\n",
    "for i, row in tqdm(bb_clean.iterrows(), total=len(bb_clean), desc='Fetching Spotify URIs'):\n",
    "    if pd.isna(bb_clean.at[i, 'spotify_uri']):\n",
    "        uri = get_track_uri_flexible(\n",
    "            row['clean_title'], \n",
    "            row['main_artist'], \n",
    "            row.get('featured_artists')\n",
    "        )\n",
    "        bb_clean.at[i, 'spotify_uri'] = uri\n",
    "\n",
    "    # save every 100 tracks\n",
    "    if i % 100 == 0 and i > 0:\n",
    "        bb_clean.to_csv('billboard_with_uris_partial.csv', index=False)\n",
    "        print(f'Saved progress at row {i}...')\n",
    "\n",
    "# final save\n",
    "bb_clean.to_csv('billboard_with_uris.csv', index=False)\n",
    "print(f\"Done! Found URIs for {bb_clean['spotify_uri'].notna().sum()} out of {len(bb_clean)} tracks.\")"
   ]
  },
  {
   "cell_type": "markdown",
   "metadata": {},
   "source": [
    "### Missing Tracks"
   ]
  },
  {
   "cell_type": "code",
   "execution_count": 10,
   "metadata": {
    "tags": []
   },
   "outputs": [
    {
     "data": {
      "text/html": [
       "<div>\n",
       "<style scoped>\n",
       "    .dataframe tbody tr th:only-of-type {\n",
       "        vertical-align: middle;\n",
       "    }\n",
       "\n",
       "    .dataframe tbody tr th {\n",
       "        vertical-align: top;\n",
       "    }\n",
       "\n",
       "    .dataframe thead th {\n",
       "        text-align: right;\n",
       "    }\n",
       "</style>\n",
       "<table border=\"1\" class=\"dataframe\">\n",
       "  <thead>\n",
       "    <tr style=\"text-align: right;\">\n",
       "      <th></th>\n",
       "      <th>title</th>\n",
       "      <th>artist</th>\n",
       "    </tr>\n",
       "  </thead>\n",
       "  <tbody>\n",
       "    <tr>\n",
       "      <th>90</th>\n",
       "      <td>247</td>\n",
       "      <td>Kevon Edmonds</td>\n",
       "    </tr>\n",
       "    <tr>\n",
       "      <th>196</th>\n",
       "      <td>Oochie Wally</td>\n",
       "      <td>QB Finest featuring Nas and Bravehearts</td>\n",
       "    </tr>\n",
       "    <tr>\n",
       "      <th>362</th>\n",
       "      <td>My Love Is LikeWo</td>\n",
       "      <td>Mýa</td>\n",
       "    </tr>\n",
       "    <tr>\n",
       "      <th>412</th>\n",
       "      <td>FreekaLeek</td>\n",
       "      <td>Petey Pablo</td>\n",
       "    </tr>\n",
       "    <tr>\n",
       "      <th>531</th>\n",
       "      <td>Obsession No Es Amor</td>\n",
       "      <td>Frankie J featuring Baby Bash</td>\n",
       "    </tr>\n",
       "    <tr>\n",
       "      <th>591</th>\n",
       "      <td>NumbEncore</td>\n",
       "      <td>Jay-Z and Linkin Park</td>\n",
       "    </tr>\n",
       "    <tr>\n",
       "      <th>698</th>\n",
       "      <td>For You I Will Confidence</td>\n",
       "      <td>Teddy Geiger</td>\n",
       "    </tr>\n",
       "    <tr>\n",
       "      <th>1103</th>\n",
       "      <td>Fuck You Forget You</td>\n",
       "      <td>CeeLo Green</td>\n",
       "    </tr>\n",
       "    <tr>\n",
       "      <th>1235</th>\n",
       "      <td>Niggas in Paris</td>\n",
       "      <td>Jay-Z and Kanye West</td>\n",
       "    </tr>\n",
       "    <tr>\n",
       "      <th>1287</th>\n",
       "      <td>Cashin Out</td>\n",
       "      <td>Cash Out</td>\n",
       "    </tr>\n",
       "    <tr>\n",
       "      <th>2014</th>\n",
       "      <td>10000 Hours</td>\n",
       "      <td>Dan + Shay and Justin Bieber</td>\n",
       "    </tr>\n",
       "    <tr>\n",
       "      <th>2112</th>\n",
       "      <td>3435</td>\n",
       "      <td>Ariana Grande featuring Doja Cat and Megan The...</td>\n",
       "    </tr>\n",
       "    <tr>\n",
       "      <th>2248</th>\n",
       "      <td>Hrs and Hrs</td>\n",
       "      <td>Muni Long</td>\n",
       "    </tr>\n",
       "  </tbody>\n",
       "</table>\n",
       "</div>"
      ],
      "text/plain": [
       "                          title   \n",
       "90                          247  \\\n",
       "196                Oochie Wally   \n",
       "362           My Love Is LikeWo   \n",
       "412                  FreekaLeek   \n",
       "531        Obsession No Es Amor   \n",
       "591                  NumbEncore   \n",
       "698   For You I Will Confidence   \n",
       "1103        Fuck You Forget You   \n",
       "1235            Niggas in Paris   \n",
       "1287                 Cashin Out   \n",
       "2014                10000 Hours   \n",
       "2112                       3435   \n",
       "2248                Hrs and Hrs   \n",
       "\n",
       "                                                 artist  \n",
       "90                                        Kevon Edmonds  \n",
       "196             QB Finest featuring Nas and Bravehearts  \n",
       "362                                                 Mýa  \n",
       "412                                         Petey Pablo  \n",
       "531                       Frankie J featuring Baby Bash  \n",
       "591                               Jay-Z and Linkin Park  \n",
       "698                                        Teddy Geiger  \n",
       "1103                                        CeeLo Green  \n",
       "1235                               Jay-Z and Kanye West  \n",
       "1287                                           Cash Out  \n",
       "2014                       Dan + Shay and Justin Bieber  \n",
       "2112  Ariana Grande featuring Doja Cat and Megan The...  \n",
       "2248                                          Muni Long  "
      ]
     },
     "execution_count": 10,
     "metadata": {},
     "output_type": "execute_result"
    }
   ],
   "source": [
    "# get the tracks with missing uris\n",
    "missing_tracks = bb_clean[bb_clean['spotify_uri'].isna()]\n",
    "missing_tracks[['title', 'artist']]"
   ]
  },
  {
   "cell_type": "code",
   "execution_count": 11,
   "metadata": {},
   "outputs": [],
   "source": [
    "# create a dictionary for missing tracks\n",
    "manual_uris = {\n",
    "    90: 'spotify:track:4rZB2G955dQMcjlb7e3VNB',\n",
    "    196: 'spotify:track:6oztAZh36mqITxIGJLu22C',\n",
    "    362: 'spotify:track:3Gamc2D6VSlXpUcmhPUFYt',\n",
    "    412: 'spotify:track:4MeDnO5yA2Zi6IMlVApRci',\n",
    "    531: 'spotify:track:4UC4H4vX3bJtcgtKR0ZCFJ',\n",
    "    591: 'spotify:track:7dyluIqv7QYVTXXZiMWPHW',\n",
    "    698: 'spotify:track:2ijMU9lYFCvGBzgwJ8Sd8q',\n",
    "    1103: 'spotify:track:3ydfhgIZIc2j39NLIhpJpq',\n",
    "    1235: 'spotify:track:1auxYwYrFRqZP7t3s7w4um',\n",
    "    1287: 'spotify:track:1POAx4NMLOBPVKZUSsBh92',\n",
    "    2014: 'spotify:track:2wrJq5XKLnmhRXHIAf9xBa',\n",
    "    2112: 'spotify:track:6Im9k8u9iIzKMrmV7BWtlF',\n",
    "    2248: 'spotify:track:3ncmoWTwJgx63LwMTyBCXf'\n",
    "}\n",
    "\n",
    "# loop through to update the dataframe\n",
    "for idx, uri in manual_uris.items():\n",
    "    bb_clean.at[idx, 'spotify_uri'] = uri\n",
    "\n",
    "# save the updated DataFrame\n",
    "bb_clean.to_csv('billboard_with_uris_final.csv', index=False)"
   ]
  }
 ],
 "metadata": {
  "kaggle": {
   "accelerator": "none",
   "dataSources": [],
   "dockerImageVersionId": 31089,
   "isGpuEnabled": false,
   "isInternetEnabled": true,
   "language": "python",
   "sourceType": "notebook"
  },
  "kernelspec": {
   "display_name": "Python 3 (ipykernel)",
   "language": "python",
   "name": "python3"
  },
  "language_info": {
   "codemirror_mode": {
    "name": "ipython",
    "version": 3
   },
   "file_extension": ".py",
   "mimetype": "text/x-python",
   "name": "python",
   "nbconvert_exporter": "python",
   "pygments_lexer": "ipython3",
   "version": "3.11.3"
  }
 },
 "nbformat": 4,
 "nbformat_minor": 4
}
